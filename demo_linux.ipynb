{
  "cells": [
    {
      "cell_type": "markdown",
      "source": [
        "# Team 5 💣\n",
        "1. Maximus Lee\n",
        "2. Aloysius Woo\n",
        "3. Lim Huai Fu\n",
        "4. Tan Ai Xin\n",
        "5. Jin Zhenglong"
      ],
      "metadata": {
        "id": "M8DIWXFJULAp"
      }
    },
    {
      "cell_type": "markdown",
      "source": [
        "## Setup"
      ],
      "metadata": {
        "id": "L3lLyUO0UXTc"
      }
    },
    {
      "cell_type": "code",
      "execution_count": null,
      "metadata": {
        "id": "-okH6K5sV4zP"
      },
      "outputs": [],
      "source": [
        "#@markdown Check type of GPU and VRAM available.\n",
        "!nvidia-smi --query-gpu=name,memory.total,memory.free --format=csv,noheader"
      ]
    },
    {
      "cell_type": "markdown",
      "metadata": {
        "id": "HpMOpVG_KhHb"
      },
      "source": [
        "### Install Environment\n",
        "Est Time: 8 mins\n",
        "\n"
      ]
    },
    {
      "cell_type": "code",
      "execution_count": null,
      "metadata": {
        "id": "u9Vc4lO5K-H9"
      },
      "outputs": [],
      "source": [
        "#@title Python\n",
        "\n",
        "%cd /content\n",
        "!sudo apt-get install python3.8\n",
        "!sudo apt-get install python3.8-distutils\n",
        "\n",
        "!update-alternatives --install /usr/local/bin/python3 python3 /usr/bin/python3.8 2\n",
        "!apt-get update\n",
        "!apt install software-properties-common\n",
        "!sudo dpkg --remove --force-remove-reinstreq python3-pip python3-setuptools python3-wheel\n",
        "!apt-get install python3-pip"
      ]
    },
    {
      "cell_type": "code",
      "source": [
        "#@title GitHub Repos\n",
        "\n",
        "!git clone https://github.com/AloysiusWooRY/FollowYourPose.git\n",
        "!git clone https://github.com/open-mmlab/mmpose.git"
      ],
      "metadata": {
        "id": "3WX-3yGTV_Sl"
      },
      "execution_count": null,
      "outputs": []
    },
    {
      "cell_type": "code",
      "execution_count": null,
      "metadata": {
        "id": "L__YKZ9KK-mX"
      },
      "outputs": [],
      "source": [
        "#@title FollowYourPose Requirements\n",
        "\n",
        "%cd /content/FollowYourPose\n",
        "%mkdir /content/FollowYourPose/checkpoints\n",
        "\n",
        "# !export PYTHONPATH=/content/FollowYourPose:$PYTHONPATH\n",
        "!export PYTHONPATH=\"${PYTHONPATH}:/usr/local/lib/python3.8/dist-packages:/usr/lib/python3.8/dist-packages\"\n",
        "!python3.8 -m pip install -q -U --pre triton==2.0.0 # to-do reinstall this, another requirements.txt overrides this\n",
        "!apt update\n",
        "!python3.8 -m pip install -q diffusers==0.11.1 torch==1.13.1 transformers==4.26.0 bitsandbytes==0.35.4 \\\n",
        "imageio-ffmpeg xformers==0.0.16  --extra-index-url https://download.pytorch.org/whl/cu113\n",
        "!python3.8 -m pip install -r requirements.txt"
      ]
    },
    {
      "cell_type": "code",
      "source": [
        "#@title MMPose Requirements\n",
        "# https://github.com/open-mmlab/mmpose\n",
        "# https://blog.csdn.net/qq_21532607/article/details/130226728\n",
        "# https://colab.research.google.com/github/open-mmlab/mmpose/blob/master/demo/MMPose_Tutorial.ipynb#scrollTo=aIEhiA44zw0y\n",
        "\n",
        "%cd /content/mmpose\n",
        "%mkdir video_input\n",
        "%mkdir video_output\n",
        "!python3.8 -m pip install -r requirements.txt\n",
        "\n",
        "!python3.8 -m pip install -U openmim\n",
        "!python3.8 -m mim install mmengine\n",
        "!python3.8 -m mim install mmpose\n",
        "!python3.8 -m mim install \"mmcv>=2.0.0\"\n",
        "!python3.8 -m mim install \"mmdet>=3.0.0\"\n",
        "\n",
        "!python3.8 -m pip install --upgrade --no-deps --force-reinstall accelerate"
      ],
      "metadata": {
        "id": "a7DJu1U7WYW1"
      },
      "execution_count": null,
      "outputs": []
    },
    {
      "cell_type": "code",
      "source": [
        "#@title Others\n",
        "\n",
        "import sys\n",
        "\n",
        "path_to_append = '/usr/local/lib/python3.8/dist-packages'\n",
        "\n",
        "# Check if the path is not already in sys.path before appending\n",
        "if path_to_append not in sys.path:\n",
        "    sys.path.append(path_to_append)"
      ],
      "metadata": {
        "id": "Uwj3JWhnNXal"
      },
      "execution_count": null,
      "outputs": []
    },
    {
      "cell_type": "markdown",
      "source": [
        "### Mount Drive 🗻\n",
        "\n",
        "1. Run the first cell to authenicate\n",
        "2. Click on the URL of the Failure in the output Failure(\"Error opening URL: ...\")\n",
        "3. Select the ICT3104 shared account\n",
        "4. Once successful, you can close the tab\n",
        "5. Run the next cell\n",
        "6. Done"
      ],
      "metadata": {
        "id": "WQxTxHN6WxMZ"
      }
    },
    {
      "cell_type": "code",
      "source": [
        "# @title First Cell\n",
        "%cd /content\n",
        "!sudo add-apt-repository -y ppa:alessandro-strada/ppa 2>&1 > /dev/null\n",
        "!sudo apt-get update -qq 2>&1 > /dev/null\n",
        "!sudo apt -y install -qq google-drive-ocamlfuse 2>&1 > /dev/null\n",
        "!google-drive-ocamlfuse"
      ],
      "metadata": {
        "id": "17pclDOQ9j6a",
        "cellView": "form"
      },
      "execution_count": null,
      "outputs": []
    },
    {
      "cell_type": "code",
      "source": [
        "# @title Next Cell\n",
        "!sudo apt-get install -qq w3m # to act as web browser\n",
        "!xdg-settings set default-web-browser w3m.desktop # to set default browser\n",
        "%cd /content\n",
        "!mkdir gdrive\n",
        "%cd gdrive\n",
        "!mkdir MyDrive\n",
        "%cd ..\n",
        "%cd ..\n",
        "!google-drive-ocamlfuse /content/gdrive/MyDrive"
      ],
      "metadata": {
        "id": "XLNViD3y9oBS",
        "cellView": "form"
      },
      "execution_count": null,
      "outputs": []
    },
    {
      "cell_type": "markdown",
      "metadata": {
        "id": "y12b9B4VLmqU"
      },
      "source": [
        "### Symbolic Linking"
      ]
    },
    {
      "cell_type": "code",
      "source": [
        "# Video selection\n",
        "%mkdir /content/video/\n",
        "\n",
        "# symbolic link edition\n",
        "!ln -s /content/gdrive/MyDrive/ICT3104/video/* /content/video\n",
        "\n",
        "# copy edition\n",
        "# %cp -r /content/gdrive/MyDrive/ICT3104/video/* /content/video/"
      ],
      "metadata": {
        "id": "939ytvIBS9Rn"
      },
      "execution_count": null,
      "outputs": []
    },
    {
      "cell_type": "code",
      "execution_count": null,
      "metadata": {
        "id": "a4YSBy4MJKx7"
      },
      "outputs": [],
      "source": [
        "# Checkpoints folder\n",
        "\n",
        "# symbolic link edition\n",
        "!ln -s /content/gdrive/MyDrive/ICT3104/checkpoints/* /content/FollowYourPose/checkpoints\n",
        "\n",
        "# copy edition\n",
        "# %cp -r /content/gdrive/MyDrive/ICT3104/checkpoints/* /content/FollowYourPose/checkpoints/"
      ]
    },
    {
      "cell_type": "code",
      "source": [
        "# MMPose video in\n",
        "\n",
        "# symbolic link edition\n",
        "!ln -s /content/gdrive/MyDrive/ICT3104/video/MMPose/* /content/mmpose/video_input\n",
        "\n",
        "# copy edition\n",
        "# %cp -r /content/gdrive/MyDrive/ICT3104/video/MMPose/* /content/mmpose/video_input"
      ],
      "metadata": {
        "id": "tmKU0lBVYOKl"
      },
      "execution_count": null,
      "outputs": []
    },
    {
      "cell_type": "markdown",
      "source": [
        "## Video Browsing"
      ],
      "metadata": {
        "id": "qg-ZSz5tvt3u"
      }
    },
    {
      "cell_type": "code",
      "execution_count": null,
      "metadata": {
        "colab": {
          "base_uri": "https://localhost:8080/",
          "height": 141,
          "referenced_widgets": [
            "447a1aa7692d402eacd07d0376268d26",
            "cca6ae2d0bbe43b48edaebb8359c2287",
            "80d24fbbd97d4795a1d0f1ef6b1c689f",
            "27d959c187ea43ed94f7c5a723edfd99",
            "d28acd605dc346c89389d70bec40ede9",
            "02f390572d344414b3eb7e588e594650",
            "6ab92c6704e64c44be1d96368685448d",
            "58dbf761104447ddafc7830ff0e5ca24",
            "5c29b0ff9bd4413da77610e7c89374bc",
            "7ceaa3b6e6e74e329ad4d10b6b0483c2",
            "7ac439d0c64a43cc9aa605a38d1f26a9",
            "95e642efa0db4727ad980c6c15f71c7a",
            "13d810b813184bf19f3df821e0dd829d",
            "25a4359af51647c6804420f91ea4c0f5",
            "57b51bf6f180482286e7e75508939983",
            "3461b94e04ac4f7e8392e3d8cac19b70",
            "983e221b3b25468eba529e9eb07bc9cd",
            "d43d2a8d356e46baaa81a9d021326a44",
            "39f4cfbfa6d64ffdbabd85f317d18311"
          ]
        },
        "id": "qlVd08AVRZy6",
        "outputId": "ecfabe88-00c5-4d2e-d213-e7e2234a024c"
      },
      "outputs": [
        {
          "output_type": "display_data",
          "data": {
            "text/plain": [
              "Output()"
            ],
            "application/vnd.jupyter.widget-view+json": {
              "version_major": 2,
              "version_minor": 0,
              "model_id": "447a1aa7692d402eacd07d0376268d26"
            }
          },
          "metadata": {}
        },
        {
          "output_type": "display_data",
          "data": {
            "text/plain": [
              "Dropdown(description='Folder:', options=('Samples', 'Skeleton', 'Charades', 'MMPose', '.ipynb_checkpoints'), v…"
            ],
            "application/vnd.jupyter.widget-view+json": {
              "version_major": 2,
              "version_minor": 0,
              "model_id": "80d24fbbd97d4795a1d0f1ef6b1c689f"
            }
          },
          "metadata": {}
        },
        {
          "output_type": "display_data",
          "data": {
            "text/plain": [
              "Dropdown(description='Video:', disabled=True, options=(), value=None)"
            ],
            "application/vnd.jupyter.widget-view+json": {
              "version_major": 2,
              "version_minor": 0,
              "model_id": "02f390572d344414b3eb7e588e594650"
            }
          },
          "metadata": {}
        },
        {
          "output_type": "display_data",
          "data": {
            "text/plain": [
              "Button(description='Display Video', disabled=True, layout=Layout(margin='0px 0px 20px 90px', width='212px'), s…"
            ],
            "application/vnd.jupyter.widget-view+json": {
              "version_major": 2,
              "version_minor": 0,
              "model_id": "5c29b0ff9bd4413da77610e7c89374bc"
            }
          },
          "metadata": {}
        },
        {
          "output_type": "display_data",
          "data": {
            "text/plain": [
              "HBox(children=(Button(description='MMPose', disabled=True, layout=Layout(width='104px'), style=ButtonStyle()),…"
            ],
            "application/vnd.jupyter.widget-view+json": {
              "version_major": 2,
              "version_minor": 0,
              "model_id": "95e642efa0db4727ad980c6c15f71c7a"
            }
          },
          "metadata": {}
        }
      ],
      "source": [
        "# @title Video Selection { display-mode: \"form\" }\n",
        "\n",
        "import os\n",
        "import ipywidgets as widgets\n",
        "from IPython.display import display, HTML, Video, clear_output\n",
        "\n",
        "directory_path = '/content/video'\n",
        "folders = os.listdir(directory_path)\n",
        "subdirectories = [content for content in folders if os.path.isdir(os.path.join(directory_path, content))]\n",
        "\n",
        "# Create an output widget as a placeholder\n",
        "output_placeholder = widgets.Output()\n",
        "display(output_placeholder)\n",
        "\n",
        "# Create the subdirectory dropdown\n",
        "subdir_picker = widgets.Dropdown(\n",
        "    options=subdirectories,\n",
        "    value=None,\n",
        "    description='Folder:',\n",
        "    disabled=False,\n",
        ")\n",
        "display(subdir_picker)\n",
        "\n",
        "# Create the video dropdown\n",
        "video_picker = widgets.Dropdown(\n",
        "    options=[],\n",
        "    description='Video:',\n",
        "    disabled=True,\n",
        ")\n",
        "display(video_picker)\n",
        "\n",
        "# Create a button to display the selected video\n",
        "display_button = widgets.Button(\n",
        "    description=\"Display Video\",\n",
        "    disabled=True,\n",
        "    layout=widgets.Layout(width='212px',margin='0px 0px 20px 90px')\n",
        ")\n",
        "display(display_button)\n",
        "\n",
        "send_mmpose_button = widgets.Button(\n",
        "    description=\"MMPose\",\n",
        "    disabled=True,\n",
        "    layout=widgets.Layout(width='104px')\n",
        ")\n",
        "\n",
        "send_fyp_button = widgets.Button(\n",
        "    description=\"FYP\",\n",
        "    disabled=True,\n",
        "    layout=widgets.Layout(width='104px')\n",
        ")\n",
        "\n",
        "send_btn_hbox = widgets.HBox(\n",
        "    [send_mmpose_button,send_fyp_button],\n",
        "    layout=widgets.Layout(margin='-18px 0px 0px 88px')\n",
        ")\n",
        "display(send_btn_hbox)\n",
        "\n",
        "# Function to update the video dropdown options based on the selected folder\n",
        "def update_videos(change):\n",
        "    selected_folder = change['new']\n",
        "    directory_path = f\"/content/video/{selected_folder}\"\n",
        "    video_options = [file for file in os.listdir(directory_path) if file.endswith('.mp4')]\n",
        "\n",
        "    video_picker.options = video_options\n",
        "    video_picker.disabled = False\n",
        "    if not video_options:\n",
        "        video_picker.value = None\n",
        "\n",
        "# Link the subdirectory dropdown to the update function\n",
        "subdir_picker.observe(update_videos, 'value')\n",
        "\n",
        "# Function to display the selected video\n",
        "def display_selected_video(change):\n",
        "    selected_video = video_picker.value\n",
        "    if selected_video:\n",
        "        video_path = f\"/content/video/{subdir_picker.value}/{selected_video}\"\n",
        "        video_display = Video(video_path, embed=True)\n",
        "\n",
        "        # Clear the output placeholder and display the video\n",
        "        with output_placeholder:\n",
        "            clear_output()\n",
        "            display(video_display)\n",
        "\n",
        "# Link the button to the display function\n",
        "display_button.on_click(display_selected_video)\n",
        "\n",
        "# Function to enable the \"Display Video\" button when a video is selected\n",
        "def enable_button(change):\n",
        "    if video_picker.value:\n",
        "        display_button.disabled = False\n",
        "        send_fyp_button.disabled = False\n",
        "        send_mmpose_button.disabled = False\n",
        "    else:\n",
        "        display_button.disabled = True\n",
        "        send_fyp_button.disabled = True\n",
        "        send_mmpose_button.disabled = True\n",
        "\n",
        "# Link the video picker dropdown to the enable button function\n",
        "video_picker.observe(enable_button, 'value')\n"
      ]
    },
    {
      "cell_type": "markdown",
      "source": [
        "## Inference: MMPOSE"
      ],
      "metadata": {
        "id": "EHkYsaGTXcNs"
      }
    },
    {
      "cell_type": "code",
      "execution_count": null,
      "metadata": {
        "colab": {
          "base_uri": "https://localhost:8080/",
          "height": 97,
          "referenced_widgets": [
            "695e9fbde356473a94232319ca6ce184",
            "bf1a5b702d6348d287c7b864d907d6ae",
            "ce8c18f5ef084517bfdea352367d0289",
            "0a648aae40b345fb92958df87fec7778",
            "0a6e36c9b21e4b0ca30c9b9d78de7ccb",
            "441941f4dbd94abaa1808e7874597f9d"
          ]
        },
        "id": "N_1pswCixoU9",
        "outputId": "240243a9-ac78-4bca-f52e-6212b8dec24a"
      },
      "outputs": [
        {
          "output_type": "display_data",
          "data": {
            "text/plain": [
              "Text(value='', description='Video:', disabled=True, placeholder='Select a video above')"
            ],
            "application/vnd.jupyter.widget-view+json": {
              "version_major": 2,
              "version_minor": 0,
              "model_id": "695e9fbde356473a94232319ca6ce184"
            }
          },
          "metadata": {}
        },
        {
          "output_type": "display_data",
          "data": {
            "text/plain": [
              "Button(description='Start Inference', disabled=True, layout=Layout(margin='0px 0px 20px 154px'), style=ButtonS…"
            ],
            "application/vnd.jupyter.widget-view+json": {
              "version_major": 2,
              "version_minor": 0,
              "model_id": "0a648aae40b345fb92958df87fec7778"
            }
          },
          "metadata": {}
        }
      ],
      "source": [
        "# @title Settings { display-mode: \"form\" }\n",
        "\n",
        "from IPython.display import Markdown, display, clear_output\n",
        "import ipywidgets as widgets\n",
        "\n",
        "\n",
        "selected_video_input = widgets.Text(\n",
        "    placeholder='Select a video above',\n",
        "    description=\"Video:\",\n",
        "    disabled=True\n",
        ")\n",
        "display(selected_video_input)\n",
        "\n",
        "mmpose_inf_button = widgets.Button(\n",
        "    description=\"Start Inference\",\n",
        "    disabled=True,\n",
        ")\n",
        "button_margin = widgets.Layout(margin='0px 0px 20px 154px')\n",
        "mmpose_inf_button.layout = button_margin\n",
        "display(mmpose_inf_button)\n",
        "\n",
        "def update_videos_inf(change):\n",
        "    selected_video = video_picker.value\n",
        "\n",
        "    selected_video_input.value = selected_video\n",
        "    if selected_video:\n",
        "        mmpose_inf_button.disabled = False\n",
        "    else:\n",
        "        mmpose_inf_button.disabled = True\n",
        "\n",
        "send_mmpose_button.on_click(update_videos_inf)\n",
        "\n",
        "def run_mmpose_inference(button):\n",
        "    selected_video = video_picker.value\n",
        "    video_path = f\"../video/{subdir_picker.value}/{selected_video}\"\n",
        "\n",
        "    %cd /content/mmpose\n",
        "\n",
        "    output_dir = \"/content/video/Skeleton\"\n",
        "    if not os.path.exists(output_dir):\n",
        "        os.mkdir(output_dir)\n",
        "\n",
        "    # Start inference\n",
        "    !python demo/inferencer_demo.py \\\n",
        "        {video_path}  \\\n",
        "        --pose2d human --vis-out-dir {output_dir} \\\n",
        "        --black-background\n",
        "\n",
        "    # Re-encode video due to H.264 video encoding error\n",
        "    input_file = f\"{output_dir}/{selected_video}\"\n",
        "    temp_output_file = f\"{output_dir}/output.mp4\"\n",
        "    !ffmpeg -i {input_file} -c:v libx264 -crf 23 -c:a aac -strict experimental {temp_output_file}\n",
        "\n",
        "    os.remove(input_file)\n",
        "    os.rename(temp_output_file, input_file)\n",
        "\n",
        "    clear_output()\n",
        "    print(f\"Done [Output: {input_file}]\")\n",
        "\n",
        "# Link the button to the print_selections function\n",
        "mmpose_inf_button.on_click(run_mmpose_inference)\n"
      ]
    },
    {
      "cell_type": "markdown",
      "source": [
        "**TODO**:\n",
        "1. ~~H.264 video encoding error, re-encode video using FFmpeg~~\n",
        "2. Add textbox for user to enter output folder path"
      ],
      "metadata": {
        "id": "M9WodNhCvuVL"
      }
    },
    {
      "cell_type": "markdown",
      "metadata": {
        "id": "naoA-L5VATod"
      },
      "source": [
        "## Inference: FYP"
      ]
    },
    {
      "cell_type": "code",
      "source": [
        "# @title Config { display-mode: \"form\" }\n",
        "from omegaconf import OmegaConf\n",
        "\n",
        "!cd /content/FollowYourPose\n",
        "sample_yaml_path = \"./configs/pose_sample.yaml\"\n",
        "load_config = OmegaConf.load(sample_yaml_path)\n",
        "\n",
        "config_style = {'description_width': '150px'}\n",
        "config_layout = widgets.Layout(width=\"500px\")\n",
        "\n",
        "config_pretrained_model_path = widgets.Text(description=\"pretrained_model_path:\", value=load_config.pretrained_model_path, style=config_style, layout=config_layout)\n",
        "config_output_dir = widgets.Text(description=\"output_dir:\", value=load_config.output_dir, style=config_style, layout=config_layout)\n",
        "config_train_batch_size = widgets.IntText(description=\"train_batch_size:\", value=load_config.train_batch_size, style=config_style, layout=config_layout)\n",
        "config_validation_steps = widgets.IntText(description=\"validation_steps:\", value=load_config.validation_steps, style=config_style, layout=config_layout)\n",
        "config_resume_from_checkpoint = widgets.Text(description=\"resume_from_checkpoint:\", value=load_config.resume_from_checkpoint, style=config_style, layout=config_layout)\n",
        "config_seed = widgets.IntText(description=\"seed:\", value=load_config.seed, style=config_style, layout=config_layout)\n",
        "config_vbox = widgets.VBox([\n",
        "    config_pretrained_model_path,\n",
        "    config_output_dir,\n",
        "    config_train_batch_size,\n",
        "    config_validation_steps,\n",
        "    config_resume_from_checkpoint,\n",
        "    config_seed\n",
        "])\n",
        "display(config_vbox)\n",
        "\n",
        "display(widgets.HTML(value=\"<h3>Validation Data</h3>\"))\n",
        "config_prompts = widgets.Textarea(description=\"prompts:\", value=\"\\n\".join(load_config.validation_data.prompts), style=config_style, layout=widgets.Layout(width=\"500px\", height=\"100px\"))\n",
        "config_video_length = widgets.IntText(description=\"video_length:\", value=load_config.validation_data.video_length, style=config_style, layout=config_layout)\n",
        "config_width = widgets.IntText(description=\"width:\", value=load_config.validation_data.width, style=config_style, layout=config_layout)\n",
        "config_height = widgets.IntText(description=\"height:\", value=load_config.validation_data.height, style=config_style, layout=config_layout)\n",
        "config_num_inference_steps = widgets.IntText(description=\"num_inference_steps:\", value=load_config.validation_data.num_inference_steps, style=config_style, layout=config_layout)\n",
        "config_guidance_scale = widgets.FloatText(description=\"guidance_scale:\", value=load_config.validation_data.guidance_scale, style=config_style, layout=config_layout)\n",
        "config_num_inv_steps = widgets.IntText(description=\"num_inv_steps:\", value=load_config.validation_data.num_inv_steps, style=config_style, layout=config_layout)\n",
        "config_num_dataset_set = widgets.Text(description=\"dataset_set:\", value=load_config.validation_data.dataset_set, style=config_style, layout=config_layout)\n",
        "\n",
        "config_vbox_validation_data = widgets.VBox([\n",
        "    config_prompts,\n",
        "    config_video_length,\n",
        "    config_width,\n",
        "    config_height,\n",
        "    config_num_inference_steps,\n",
        "    config_guidance_scale,\n",
        "    config_num_inv_steps,\n",
        "    config_num_dataset_set\n",
        "])\n",
        "display(config_vbox_validation_data)\n",
        "\n",
        "config_save_btn = widgets.Button(description=\"Save\")\n",
        "config_save_btn.layout = widgets.Layout(margin='0px 0px 20px 354px')\n",
        "display(config_save_btn)\n",
        "\n",
        "def save_config(change):\n",
        "  config = {\n",
        "      \"pretrained_model_path\": config_pretrained_model_path.value,\n",
        "      \"output_dir\": config_output_dir.value,\n",
        "      \"validation_data\": {\n",
        "          \"prompts\": [prompt.strip() for prompt in config_prompts.value.splitlines() if prompt.strip()],\n",
        "          \"video_length\": config_video_length.value,\n",
        "          \"width\": config_width.value,\n",
        "          \"height\": config_height.value,\n",
        "          \"num_inference_steps\": config_num_inference_steps.value,\n",
        "          \"guidance_scale\": config_guidance_scale.value,\n",
        "          \"use_inv_latent\": load_config.validation_data.use_inv_latent,\n",
        "          \"num_inv_steps\": config_num_inv_steps.value,\n",
        "          \"dataset_set\": config_num_dataset_set.value\n",
        "      },\n",
        "      \"train_batch_size\": config_train_batch_size.value,\n",
        "      \"validation_steps\": config_validation_steps.value,\n",
        "      \"resume_from_checkpoint\": config_resume_from_checkpoint.value,\n",
        "      \"seed\": config_seed.value,\n",
        "      \"mixed_precision\": load_config.mixed_precision,\n",
        "      \"gradient_checkpointing\": load_config.gradient_checkpointing,\n",
        "      \"enable_xformers_memory_efficient_attention\": load_config.enable_xformers_memory_efficient_attention\n",
        "  }\n",
        "  OmegaConf.save(config, sample_yaml_path)\n",
        "  print(\"Successfully saved!\")\n",
        "\n",
        "config_save_btn.on_click(save_config)\n",
        "\n"
      ],
      "metadata": {
        "id": "GPncudQS7Uyn"
      },
      "execution_count": null,
      "outputs": []
    },
    {
      "cell_type": "code",
      "source": [
        "# @title Settings { display-mode: \"form\" }\n",
        "\n",
        "skeleton_file_path = widgets.Text(\n",
        "    placeholder='Select a video above',\n",
        "    description=\"Video:\",\n",
        "    disabled=True\n",
        ")\n",
        "display(skeleton_file_path)\n",
        "\n",
        "config_file_path = widgets.Text(\n",
        "    value='configs/pose_sample.yaml',\n",
        "    description=\"Config File:\"\n",
        ")\n",
        "display(config_file_path)\n",
        "\n",
        "fyp_inf_button = widgets.Button(\n",
        "    description=\"Start Inference\",\n",
        "    disabled=True,\n",
        ")\n",
        "button_margin = widgets.Layout(margin='0px 0px 20px 154px')\n",
        "fyp_inf_button.layout = button_margin\n",
        "display(fyp_inf_button)\n",
        "\n",
        "def update_skeleton_inf(change):\n",
        "    selected_video = video_picker.value\n",
        "    skeleton_file_path.value = f\"../video/{subdir_picker.value}/{selected_video}\"\n",
        "\n",
        "    if selected_video:\n",
        "        fyp_inf_button.disabled = False\n",
        "    else:\n",
        "        fyp_inf_button.disabled = True\n",
        "\n",
        "send_fyp_button.on_click(update_skeleton_inf)\n",
        "\n",
        "def run_fyp_inference(button):\n",
        "    config_file_path_text = config_file_path.value\n",
        "    video_file_path_text = skeleton_file_path.value\n",
        "\n",
        "    !cd /content/FollowYourPose\n",
        "\n",
        "    # Start inference\n",
        "    !TORCH_DISTRIBUTED_DEBUG=DETAIL accelerate launch txt2video.py \\\n",
        "        --config={config_file_path_text}  \\\n",
        "        --skeleton_path={video_file_path_text}\n",
        "\n",
        "# Link the button to the print_selections function\n",
        "fyp_inf_button.on_click(run_fyp_inference)\n"
      ],
      "metadata": {
        "id": "yAFxAiNDNHfs",
        "outputId": "fc88d1a4-4875-4e69-a2fb-c49713584070",
        "colab": {
          "base_uri": "https://localhost:8080/",
          "height": 128,
          "referenced_widgets": [
            "56dbc94b97874b4c96cb60dc8b6fb88b",
            "39321360059848c3af0e33ef9cb195b3",
            "b4d5c7a8ca4d48e7b9740cc165acb89f",
            "5a95fd018de042b589acbe246f8a8f3e",
            "b481bbc400e4464da91c680de3248978",
            "c9374c9be08443f28503ab3b474d42ba",
            "0f4a7e6a008446c9afa02c9cf6b20b95",
            "fc16239e9b9041bf9c3bc530a58258f6",
            "1b1d196c34a1479b95b9897b70ac63d3"
          ]
        }
      },
      "execution_count": null,
      "outputs": [
        {
          "output_type": "display_data",
          "data": {
            "text/plain": [
              "Text(value='', description='Video:', disabled=True, placeholder='Select a video above')"
            ],
            "application/vnd.jupyter.widget-view+json": {
              "version_major": 2,
              "version_minor": 0,
              "model_id": "56dbc94b97874b4c96cb60dc8b6fb88b"
            }
          },
          "metadata": {}
        },
        {
          "output_type": "display_data",
          "data": {
            "text/plain": [
              "Text(value='configs/pose_sample.yaml', description='Config File:')"
            ],
            "application/vnd.jupyter.widget-view+json": {
              "version_major": 2,
              "version_minor": 0,
              "model_id": "5a95fd018de042b589acbe246f8a8f3e"
            }
          },
          "metadata": {}
        },
        {
          "output_type": "display_data",
          "data": {
            "text/plain": [
              "Button(description='Start Inference', disabled=True, layout=Layout(margin='0px 0px 20px 154px'), style=ButtonS…"
            ],
            "application/vnd.jupyter.widget-view+json": {
              "version_major": 2,
              "version_minor": 0,
              "model_id": "0f4a7e6a008446c9afa02c9cf6b20b95"
            }
          },
          "metadata": {}
        }
      ]
    },
    {
      "cell_type": "markdown",
      "source": [
        "## Training (WIP)"
      ],
      "metadata": {
        "id": "FFRHv5DxoaJQ"
      }
    },
    {
      "cell_type": "code",
      "source": [
        "\n",
        "import os\n",
        "import ipywidgets as widgets\n",
        "from IPython.display import display, clear_output\n",
        "\n",
        "# Define the base directory path\n",
        "base_directory = '/content'\n",
        "\n",
        "# Function to create nested dropdowns for directories\n",
        "def create_directory_dropdown(directory_path, default_value='Select'):\n",
        "    folder_picker = widgets.Dropdown(\n",
        "        options=['Select'] + get_subdirectories(directory_path),\n",
        "        value=default_value,\n",
        "        description=os.path.basename(directory_path) + ':',\n",
        "        disabled=False,\n",
        "    )\n",
        "    folder_picker.style.description_width = 'initial'  # Allow the description to shrink\n",
        "    folder_picker.layout.width = 'auto'  # Allow the dropdown to adjust its width\n",
        "    folder_picker.layout.min_width = '200px'  # Set a minimum width to ensure content is visible\n",
        "    folder_picker.layout.width = '400px'\n",
        "    return folder_picker\n",
        "\n",
        "# Function to create \"Training Epochs\" textbox\n",
        "def create_epochs_textbox(default_value=10):\n",
        "    epochs_textbox = widgets.IntText(\n",
        "        value=default_value,\n",
        "        description='Training Epochs:',\n",
        "        layout=widgets.Layout(width='auto')\n",
        "    )\n",
        "    epochs_textbox.style.description_width = 'initial'  # Allow the description to shrink\n",
        "    epochs_textbox.layout.width = 'auto'  # Allow the textbox to adjust its width\n",
        "    epochs_textbox.layout.min_width = '200px'  # Set a minimum width to ensure content is visible\n",
        "    epochs_textbox.layout.width = '400px'\n",
        "    return epochs_textbox\n",
        "\n",
        "# Function to create \"Batch Size\" textbox\n",
        "def create_batch_size_textbox(default_value=32):\n",
        "    batch_size_textbox = widgets.IntText(\n",
        "        value=default_value,\n",
        "        description='Batch Size:',\n",
        "        layout=widgets.Layout(width='auto')\n",
        "    )\n",
        "    batch_size_textbox.style.description_width = 'initial'  # Allow the description to shrink\n",
        "    batch_size_textbox.layout.width = 'auto'  # Allow the textbox to adjust its width\n",
        "    batch_size_textbox.layout.min_width = '200px'  # Set a minimum width to ensure content is visible\n",
        "    batch_size_textbox.layout.width = '400px'\n",
        "    return batch_size_textbox\n",
        "\n",
        "# Function to create \"Submit\" button\n",
        "def create_submit_button():\n",
        "    submit_button = widgets.Button(\n",
        "        description='Submit',\n",
        "    )\n",
        "    submit_button.layout.margin = '20px 0 0 200px'  # Add margin for positioning\n",
        "    return submit_button\n",
        "\n",
        "# Function to get subdirectories in a folder\n",
        "def get_subdirectories(folder_path):\n",
        "    folders = os.listdir(folder_path)\n",
        "    return [content for content in folders if os.path.isdir(os.path.join(folder_path, content))]\n",
        "\n",
        "# Function to display the selected values with full paths\n",
        "def display_selected_values(selected_folder, subfolder, epochs, batch_size):\n",
        "    clear_output(wait=True)\n",
        "    dataset_folder_path = os.path.join(base_directory, selected_folder)\n",
        "    subfolder_path = os.path.join(dataset_folder_path, subfolder) if subfolder else None\n",
        "    print(f'Selected Dataset Folder: {dataset_folder_path}')\n",
        "    if subfolder_path:\n",
        "        print(f'Selected Dataset Subfolder: {subfolder_path}')\n",
        "    print(f'Epochs Entered: {epochs}')\n",
        "    print(f'Batch Size Entered: {batch_size}')\n",
        "\n",
        "# Create an output widget as a placeholder\n",
        "output_placeholder = widgets.Output()\n",
        "\n",
        "# Create the \"Dataset Folder\" dropdown\n",
        "dataset_folder_picker = create_directory_dropdown(base_directory)\n",
        "dataset_folder_picker.description = 'Dataset Folder:'\n",
        "\n",
        "# Create empty variables for the subfolder, epochs, and batch size widgets\n",
        "subfolder_picker = None\n",
        "epochs_textbox = None\n",
        "batch_size_textbox = None\n",
        "submit_button = None\n",
        "\n",
        "# Function to handle button click\n",
        "def on_submit_button_click(b):\n",
        "    selected_folder = dataset_folder_picker.value\n",
        "    subfolder = subfolder_picker.value if subfolder_picker else None\n",
        "    epochs = epochs_textbox.value\n",
        "    batch_size = batch_size_textbox.value\n",
        "    display_selected_values(selected_folder, subfolder, epochs, batch_size)\n",
        "\n",
        "# Function to update the directory dropdowns based on the selected \"Dataset Folder\"\n",
        "def update_directory_dropdowns(change):\n",
        "    global subfolder_picker, epochs_textbox, batch_size_textbox, submit_button\n",
        "\n",
        "    selected_folder = change['new']\n",
        "\n",
        "    # Clear previous subfolder, epochs, and batch size widgets\n",
        "    if subfolder_picker:\n",
        "        subfolder_picker.close()\n",
        "    if epochs_textbox:\n",
        "        epochs_textbox.close()\n",
        "    if batch_size_textbox:\n",
        "        batch_size_textbox.close()\n",
        "    if submit_button:\n",
        "        submit_button.close()\n",
        "\n",
        "    # Create the \"Dataset Subfolder\" dropdown if a valid folder is selected\n",
        "    if selected_folder != 'Select':\n",
        "        subfolder_picker = create_directory_dropdown(os.path.join(base_directory, selected_folder), default_value='Select')\n",
        "        subfolder_picker.description = 'Dataset Subfolder:'\n",
        "        display(subfolder_picker)\n",
        "\n",
        "        # Create \"Training Epochs\" and \"Batch Size\" textboxes\n",
        "        epochs_textbox = create_epochs_textbox()\n",
        "        batch_size_textbox = create_batch_size_textbox()\n",
        "        submit_button = create_submit_button()\n",
        "        submit_button.on_click(on_submit_button_click)\n",
        "\n",
        "        # Display the \"Submit\" button\n",
        "        display(epochs_textbox, batch_size_textbox, submit_button)\n",
        "\n",
        "# Observe changes in the \"Dataset Folder\" dropdown\n",
        "dataset_folder_picker.observe(update_directory_dropdowns, names='value')\n",
        "\n",
        "# Display the widgets\n",
        "display(dataset_folder_picker, output_placeholder)\n"
      ],
      "metadata": {
        "id": "ju00nr0PoE70"
      },
      "execution_count": null,
      "outputs": []
    }
  ],
  "metadata": {
    "accelerator": "GPU",
    "colab": {
      "collapsed_sections": [
        "HpMOpVG_KhHb",
        "y12b9B4VLmqU",
        "naoA-L5VATod"
      ],
      "provenance": []
    },
    "kernelspec": {
      "display_name": "Python 3",
      "name": "python3"
    },
    "language_info": {
      "name": "python"
    },
    "widgets": {
      "application/vnd.jupyter.widget-state+json": {
        "447a1aa7692d402eacd07d0376268d26": {
          "model_module": "@jupyter-widgets/output",
          "model_name": "OutputModel",
          "model_module_version": "1.0.0",
          "state": {
            "_dom_classes": [],
            "_model_module": "@jupyter-widgets/output",
            "_model_module_version": "1.0.0",
            "_model_name": "OutputModel",
            "_view_count": null,
            "_view_module": "@jupyter-widgets/output",
            "_view_module_version": "1.0.0",
            "_view_name": "OutputView",
            "layout": "IPY_MODEL_cca6ae2d0bbe43b48edaebb8359c2287",
            "msg_id": "",
            "outputs": []
          }
        },
        "cca6ae2d0bbe43b48edaebb8359c2287": {
          "model_module": "@jupyter-widgets/base",
          "model_name": "LayoutModel",
          "model_module_version": "1.2.0",
          "state": {
            "_model_module": "@jupyter-widgets/base",
            "_model_module_version": "1.2.0",
            "_model_name": "LayoutModel",
            "_view_count": null,
            "_view_module": "@jupyter-widgets/base",
            "_view_module_version": "1.2.0",
            "_view_name": "LayoutView",
            "align_content": null,
            "align_items": null,
            "align_self": null,
            "border": null,
            "bottom": null,
            "display": null,
            "flex": null,
            "flex_flow": null,
            "grid_area": null,
            "grid_auto_columns": null,
            "grid_auto_flow": null,
            "grid_auto_rows": null,
            "grid_column": null,
            "grid_gap": null,
            "grid_row": null,
            "grid_template_areas": null,
            "grid_template_columns": null,
            "grid_template_rows": null,
            "height": null,
            "justify_content": null,
            "justify_items": null,
            "left": null,
            "margin": null,
            "max_height": null,
            "max_width": null,
            "min_height": null,
            "min_width": null,
            "object_fit": null,
            "object_position": null,
            "order": null,
            "overflow": null,
            "overflow_x": null,
            "overflow_y": null,
            "padding": null,
            "right": null,
            "top": null,
            "visibility": null,
            "width": null
          }
        },
        "80d24fbbd97d4795a1d0f1ef6b1c689f": {
          "model_module": "@jupyter-widgets/controls",
          "model_name": "DropdownModel",
          "model_module_version": "1.5.0",
          "state": {
            "_dom_classes": [],
            "_model_module": "@jupyter-widgets/controls",
            "_model_module_version": "1.5.0",
            "_model_name": "DropdownModel",
            "_options_labels": [
              "Samples",
              "Skeleton",
              "Charades",
              "MMPose",
              ".ipynb_checkpoints"
            ],
            "_view_count": null,
            "_view_module": "@jupyter-widgets/controls",
            "_view_module_version": "1.5.0",
            "_view_name": "DropdownView",
            "description": "Folder:",
            "description_tooltip": null,
            "disabled": false,
            "index": null,
            "layout": "IPY_MODEL_27d959c187ea43ed94f7c5a723edfd99",
            "style": "IPY_MODEL_d28acd605dc346c89389d70bec40ede9"
          }
        },
        "27d959c187ea43ed94f7c5a723edfd99": {
          "model_module": "@jupyter-widgets/base",
          "model_name": "LayoutModel",
          "model_module_version": "1.2.0",
          "state": {
            "_model_module": "@jupyter-widgets/base",
            "_model_module_version": "1.2.0",
            "_model_name": "LayoutModel",
            "_view_count": null,
            "_view_module": "@jupyter-widgets/base",
            "_view_module_version": "1.2.0",
            "_view_name": "LayoutView",
            "align_content": null,
            "align_items": null,
            "align_self": null,
            "border": null,
            "bottom": null,
            "display": null,
            "flex": null,
            "flex_flow": null,
            "grid_area": null,
            "grid_auto_columns": null,
            "grid_auto_flow": null,
            "grid_auto_rows": null,
            "grid_column": null,
            "grid_gap": null,
            "grid_row": null,
            "grid_template_areas": null,
            "grid_template_columns": null,
            "grid_template_rows": null,
            "height": null,
            "justify_content": null,
            "justify_items": null,
            "left": null,
            "margin": null,
            "max_height": null,
            "max_width": null,
            "min_height": null,
            "min_width": null,
            "object_fit": null,
            "object_position": null,
            "order": null,
            "overflow": null,
            "overflow_x": null,
            "overflow_y": null,
            "padding": null,
            "right": null,
            "top": null,
            "visibility": null,
            "width": null
          }
        },
        "d28acd605dc346c89389d70bec40ede9": {
          "model_module": "@jupyter-widgets/controls",
          "model_name": "DescriptionStyleModel",
          "model_module_version": "1.5.0",
          "state": {
            "_model_module": "@jupyter-widgets/controls",
            "_model_module_version": "1.5.0",
            "_model_name": "DescriptionStyleModel",
            "_view_count": null,
            "_view_module": "@jupyter-widgets/base",
            "_view_module_version": "1.2.0",
            "_view_name": "StyleView",
            "description_width": ""
          }
        },
        "02f390572d344414b3eb7e588e594650": {
          "model_module": "@jupyter-widgets/controls",
          "model_name": "DropdownModel",
          "model_module_version": "1.5.0",
          "state": {
            "_dom_classes": [],
            "_model_module": "@jupyter-widgets/controls",
            "_model_module_version": "1.5.0",
            "_model_name": "DropdownModel",
            "_options_labels": [],
            "_view_count": null,
            "_view_module": "@jupyter-widgets/controls",
            "_view_module_version": "1.5.0",
            "_view_name": "DropdownView",
            "description": "Video:",
            "description_tooltip": null,
            "disabled": true,
            "index": null,
            "layout": "IPY_MODEL_6ab92c6704e64c44be1d96368685448d",
            "style": "IPY_MODEL_58dbf761104447ddafc7830ff0e5ca24"
          }
        },
        "6ab92c6704e64c44be1d96368685448d": {
          "model_module": "@jupyter-widgets/base",
          "model_name": "LayoutModel",
          "model_module_version": "1.2.0",
          "state": {
            "_model_module": "@jupyter-widgets/base",
            "_model_module_version": "1.2.0",
            "_model_name": "LayoutModel",
            "_view_count": null,
            "_view_module": "@jupyter-widgets/base",
            "_view_module_version": "1.2.0",
            "_view_name": "LayoutView",
            "align_content": null,
            "align_items": null,
            "align_self": null,
            "border": null,
            "bottom": null,
            "display": null,
            "flex": null,
            "flex_flow": null,
            "grid_area": null,
            "grid_auto_columns": null,
            "grid_auto_flow": null,
            "grid_auto_rows": null,
            "grid_column": null,
            "grid_gap": null,
            "grid_row": null,
            "grid_template_areas": null,
            "grid_template_columns": null,
            "grid_template_rows": null,
            "height": null,
            "justify_content": null,
            "justify_items": null,
            "left": null,
            "margin": null,
            "max_height": null,
            "max_width": null,
            "min_height": null,
            "min_width": null,
            "object_fit": null,
            "object_position": null,
            "order": null,
            "overflow": null,
            "overflow_x": null,
            "overflow_y": null,
            "padding": null,
            "right": null,
            "top": null,
            "visibility": null,
            "width": null
          }
        },
        "58dbf761104447ddafc7830ff0e5ca24": {
          "model_module": "@jupyter-widgets/controls",
          "model_name": "DescriptionStyleModel",
          "model_module_version": "1.5.0",
          "state": {
            "_model_module": "@jupyter-widgets/controls",
            "_model_module_version": "1.5.0",
            "_model_name": "DescriptionStyleModel",
            "_view_count": null,
            "_view_module": "@jupyter-widgets/base",
            "_view_module_version": "1.2.0",
            "_view_name": "StyleView",
            "description_width": ""
          }
        },
        "5c29b0ff9bd4413da77610e7c89374bc": {
          "model_module": "@jupyter-widgets/controls",
          "model_name": "ButtonModel",
          "model_module_version": "1.5.0",
          "state": {
            "_dom_classes": [],
            "_model_module": "@jupyter-widgets/controls",
            "_model_module_version": "1.5.0",
            "_model_name": "ButtonModel",
            "_view_count": null,
            "_view_module": "@jupyter-widgets/controls",
            "_view_module_version": "1.5.0",
            "_view_name": "ButtonView",
            "button_style": "",
            "description": "Display Video",
            "disabled": true,
            "icon": "",
            "layout": "IPY_MODEL_7ceaa3b6e6e74e329ad4d10b6b0483c2",
            "style": "IPY_MODEL_7ac439d0c64a43cc9aa605a38d1f26a9",
            "tooltip": ""
          }
        },
        "7ceaa3b6e6e74e329ad4d10b6b0483c2": {
          "model_module": "@jupyter-widgets/base",
          "model_name": "LayoutModel",
          "model_module_version": "1.2.0",
          "state": {
            "_model_module": "@jupyter-widgets/base",
            "_model_module_version": "1.2.0",
            "_model_name": "LayoutModel",
            "_view_count": null,
            "_view_module": "@jupyter-widgets/base",
            "_view_module_version": "1.2.0",
            "_view_name": "LayoutView",
            "align_content": null,
            "align_items": null,
            "align_self": null,
            "border": null,
            "bottom": null,
            "display": null,
            "flex": null,
            "flex_flow": null,
            "grid_area": null,
            "grid_auto_columns": null,
            "grid_auto_flow": null,
            "grid_auto_rows": null,
            "grid_column": null,
            "grid_gap": null,
            "grid_row": null,
            "grid_template_areas": null,
            "grid_template_columns": null,
            "grid_template_rows": null,
            "height": null,
            "justify_content": null,
            "justify_items": null,
            "left": null,
            "margin": "0px 0px 20px 90px",
            "max_height": null,
            "max_width": null,
            "min_height": null,
            "min_width": null,
            "object_fit": null,
            "object_position": null,
            "order": null,
            "overflow": null,
            "overflow_x": null,
            "overflow_y": null,
            "padding": null,
            "right": null,
            "top": null,
            "visibility": null,
            "width": "212px"
          }
        },
        "7ac439d0c64a43cc9aa605a38d1f26a9": {
          "model_module": "@jupyter-widgets/controls",
          "model_name": "ButtonStyleModel",
          "model_module_version": "1.5.0",
          "state": {
            "_model_module": "@jupyter-widgets/controls",
            "_model_module_version": "1.5.0",
            "_model_name": "ButtonStyleModel",
            "_view_count": null,
            "_view_module": "@jupyter-widgets/base",
            "_view_module_version": "1.2.0",
            "_view_name": "StyleView",
            "button_color": null,
            "font_weight": ""
          }
        },
        "95e642efa0db4727ad980c6c15f71c7a": {
          "model_module": "@jupyter-widgets/controls",
          "model_name": "HBoxModel",
          "model_module_version": "1.5.0",
          "state": {
            "_dom_classes": [],
            "_model_module": "@jupyter-widgets/controls",
            "_model_module_version": "1.5.0",
            "_model_name": "HBoxModel",
            "_view_count": null,
            "_view_module": "@jupyter-widgets/controls",
            "_view_module_version": "1.5.0",
            "_view_name": "HBoxView",
            "box_style": "",
            "children": [
              "IPY_MODEL_13d810b813184bf19f3df821e0dd829d",
              "IPY_MODEL_25a4359af51647c6804420f91ea4c0f5"
            ],
            "layout": "IPY_MODEL_57b51bf6f180482286e7e75508939983"
          }
        },
        "13d810b813184bf19f3df821e0dd829d": {
          "model_module": "@jupyter-widgets/controls",
          "model_name": "ButtonModel",
          "model_module_version": "1.5.0",
          "state": {
            "_dom_classes": [],
            "_model_module": "@jupyter-widgets/controls",
            "_model_module_version": "1.5.0",
            "_model_name": "ButtonModel",
            "_view_count": null,
            "_view_module": "@jupyter-widgets/controls",
            "_view_module_version": "1.5.0",
            "_view_name": "ButtonView",
            "button_style": "",
            "description": "MMPose",
            "disabled": true,
            "icon": "",
            "layout": "IPY_MODEL_3461b94e04ac4f7e8392e3d8cac19b70",
            "style": "IPY_MODEL_983e221b3b25468eba529e9eb07bc9cd",
            "tooltip": ""
          }
        },
        "25a4359af51647c6804420f91ea4c0f5": {
          "model_module": "@jupyter-widgets/controls",
          "model_name": "ButtonModel",
          "model_module_version": "1.5.0",
          "state": {
            "_dom_classes": [],
            "_model_module": "@jupyter-widgets/controls",
            "_model_module_version": "1.5.0",
            "_model_name": "ButtonModel",
            "_view_count": null,
            "_view_module": "@jupyter-widgets/controls",
            "_view_module_version": "1.5.0",
            "_view_name": "ButtonView",
            "button_style": "",
            "description": "FYP",
            "disabled": true,
            "icon": "",
            "layout": "IPY_MODEL_d43d2a8d356e46baaa81a9d021326a44",
            "style": "IPY_MODEL_39f4cfbfa6d64ffdbabd85f317d18311",
            "tooltip": ""
          }
        },
        "57b51bf6f180482286e7e75508939983": {
          "model_module": "@jupyter-widgets/base",
          "model_name": "LayoutModel",
          "model_module_version": "1.2.0",
          "state": {
            "_model_module": "@jupyter-widgets/base",
            "_model_module_version": "1.2.0",
            "_model_name": "LayoutModel",
            "_view_count": null,
            "_view_module": "@jupyter-widgets/base",
            "_view_module_version": "1.2.0",
            "_view_name": "LayoutView",
            "align_content": null,
            "align_items": null,
            "align_self": null,
            "border": null,
            "bottom": null,
            "display": null,
            "flex": null,
            "flex_flow": null,
            "grid_area": null,
            "grid_auto_columns": null,
            "grid_auto_flow": null,
            "grid_auto_rows": null,
            "grid_column": null,
            "grid_gap": null,
            "grid_row": null,
            "grid_template_areas": null,
            "grid_template_columns": null,
            "grid_template_rows": null,
            "height": null,
            "justify_content": null,
            "justify_items": null,
            "left": null,
            "margin": "-18px 0px 0px 88px",
            "max_height": null,
            "max_width": null,
            "min_height": null,
            "min_width": null,
            "object_fit": null,
            "object_position": null,
            "order": null,
            "overflow": null,
            "overflow_x": null,
            "overflow_y": null,
            "padding": null,
            "right": null,
            "top": null,
            "visibility": null,
            "width": null
          }
        },
        "3461b94e04ac4f7e8392e3d8cac19b70": {
          "model_module": "@jupyter-widgets/base",
          "model_name": "LayoutModel",
          "model_module_version": "1.2.0",
          "state": {
            "_model_module": "@jupyter-widgets/base",
            "_model_module_version": "1.2.0",
            "_model_name": "LayoutModel",
            "_view_count": null,
            "_view_module": "@jupyter-widgets/base",
            "_view_module_version": "1.2.0",
            "_view_name": "LayoutView",
            "align_content": null,
            "align_items": null,
            "align_self": null,
            "border": null,
            "bottom": null,
            "display": null,
            "flex": null,
            "flex_flow": null,
            "grid_area": null,
            "grid_auto_columns": null,
            "grid_auto_flow": null,
            "grid_auto_rows": null,
            "grid_column": null,
            "grid_gap": null,
            "grid_row": null,
            "grid_template_areas": null,
            "grid_template_columns": null,
            "grid_template_rows": null,
            "height": null,
            "justify_content": null,
            "justify_items": null,
            "left": null,
            "margin": null,
            "max_height": null,
            "max_width": null,
            "min_height": null,
            "min_width": null,
            "object_fit": null,
            "object_position": null,
            "order": null,
            "overflow": null,
            "overflow_x": null,
            "overflow_y": null,
            "padding": null,
            "right": null,
            "top": null,
            "visibility": null,
            "width": "104px"
          }
        },
        "983e221b3b25468eba529e9eb07bc9cd": {
          "model_module": "@jupyter-widgets/controls",
          "model_name": "ButtonStyleModel",
          "model_module_version": "1.5.0",
          "state": {
            "_model_module": "@jupyter-widgets/controls",
            "_model_module_version": "1.5.0",
            "_model_name": "ButtonStyleModel",
            "_view_count": null,
            "_view_module": "@jupyter-widgets/base",
            "_view_module_version": "1.2.0",
            "_view_name": "StyleView",
            "button_color": null,
            "font_weight": ""
          }
        },
        "d43d2a8d356e46baaa81a9d021326a44": {
          "model_module": "@jupyter-widgets/base",
          "model_name": "LayoutModel",
          "model_module_version": "1.2.0",
          "state": {
            "_model_module": "@jupyter-widgets/base",
            "_model_module_version": "1.2.0",
            "_model_name": "LayoutModel",
            "_view_count": null,
            "_view_module": "@jupyter-widgets/base",
            "_view_module_version": "1.2.0",
            "_view_name": "LayoutView",
            "align_content": null,
            "align_items": null,
            "align_self": null,
            "border": null,
            "bottom": null,
            "display": null,
            "flex": null,
            "flex_flow": null,
            "grid_area": null,
            "grid_auto_columns": null,
            "grid_auto_flow": null,
            "grid_auto_rows": null,
            "grid_column": null,
            "grid_gap": null,
            "grid_row": null,
            "grid_template_areas": null,
            "grid_template_columns": null,
            "grid_template_rows": null,
            "height": null,
            "justify_content": null,
            "justify_items": null,
            "left": null,
            "margin": null,
            "max_height": null,
            "max_width": null,
            "min_height": null,
            "min_width": null,
            "object_fit": null,
            "object_position": null,
            "order": null,
            "overflow": null,
            "overflow_x": null,
            "overflow_y": null,
            "padding": null,
            "right": null,
            "top": null,
            "visibility": null,
            "width": "104px"
          }
        },
        "39f4cfbfa6d64ffdbabd85f317d18311": {
          "model_module": "@jupyter-widgets/controls",
          "model_name": "ButtonStyleModel",
          "model_module_version": "1.5.0",
          "state": {
            "_model_module": "@jupyter-widgets/controls",
            "_model_module_version": "1.5.0",
            "_model_name": "ButtonStyleModel",
            "_view_count": null,
            "_view_module": "@jupyter-widgets/base",
            "_view_module_version": "1.2.0",
            "_view_name": "StyleView",
            "button_color": null,
            "font_weight": ""
          }
        },
        "695e9fbde356473a94232319ca6ce184": {
          "model_module": "@jupyter-widgets/controls",
          "model_name": "TextModel",
          "model_module_version": "1.5.0",
          "state": {
            "_dom_classes": [],
            "_model_module": "@jupyter-widgets/controls",
            "_model_module_version": "1.5.0",
            "_model_name": "TextModel",
            "_view_count": null,
            "_view_module": "@jupyter-widgets/controls",
            "_view_module_version": "1.5.0",
            "_view_name": "TextView",
            "continuous_update": true,
            "description": "Video:",
            "description_tooltip": null,
            "disabled": true,
            "layout": "IPY_MODEL_bf1a5b702d6348d287c7b864d907d6ae",
            "placeholder": "Select a video above",
            "style": "IPY_MODEL_ce8c18f5ef084517bfdea352367d0289",
            "value": ""
          }
        },
        "bf1a5b702d6348d287c7b864d907d6ae": {
          "model_module": "@jupyter-widgets/base",
          "model_name": "LayoutModel",
          "model_module_version": "1.2.0",
          "state": {
            "_model_module": "@jupyter-widgets/base",
            "_model_module_version": "1.2.0",
            "_model_name": "LayoutModel",
            "_view_count": null,
            "_view_module": "@jupyter-widgets/base",
            "_view_module_version": "1.2.0",
            "_view_name": "LayoutView",
            "align_content": null,
            "align_items": null,
            "align_self": null,
            "border": null,
            "bottom": null,
            "display": null,
            "flex": null,
            "flex_flow": null,
            "grid_area": null,
            "grid_auto_columns": null,
            "grid_auto_flow": null,
            "grid_auto_rows": null,
            "grid_column": null,
            "grid_gap": null,
            "grid_row": null,
            "grid_template_areas": null,
            "grid_template_columns": null,
            "grid_template_rows": null,
            "height": null,
            "justify_content": null,
            "justify_items": null,
            "left": null,
            "margin": null,
            "max_height": null,
            "max_width": null,
            "min_height": null,
            "min_width": null,
            "object_fit": null,
            "object_position": null,
            "order": null,
            "overflow": null,
            "overflow_x": null,
            "overflow_y": null,
            "padding": null,
            "right": null,
            "top": null,
            "visibility": null,
            "width": null
          }
        },
        "ce8c18f5ef084517bfdea352367d0289": {
          "model_module": "@jupyter-widgets/controls",
          "model_name": "DescriptionStyleModel",
          "model_module_version": "1.5.0",
          "state": {
            "_model_module": "@jupyter-widgets/controls",
            "_model_module_version": "1.5.0",
            "_model_name": "DescriptionStyleModel",
            "_view_count": null,
            "_view_module": "@jupyter-widgets/base",
            "_view_module_version": "1.2.0",
            "_view_name": "StyleView",
            "description_width": ""
          }
        },
        "0a648aae40b345fb92958df87fec7778": {
          "model_module": "@jupyter-widgets/controls",
          "model_name": "ButtonModel",
          "model_module_version": "1.5.0",
          "state": {
            "_dom_classes": [],
            "_model_module": "@jupyter-widgets/controls",
            "_model_module_version": "1.5.0",
            "_model_name": "ButtonModel",
            "_view_count": null,
            "_view_module": "@jupyter-widgets/controls",
            "_view_module_version": "1.5.0",
            "_view_name": "ButtonView",
            "button_style": "",
            "description": "Start Inference",
            "disabled": true,
            "icon": "",
            "layout": "IPY_MODEL_0a6e36c9b21e4b0ca30c9b9d78de7ccb",
            "style": "IPY_MODEL_441941f4dbd94abaa1808e7874597f9d",
            "tooltip": ""
          }
        },
        "0a6e36c9b21e4b0ca30c9b9d78de7ccb": {
          "model_module": "@jupyter-widgets/base",
          "model_name": "LayoutModel",
          "model_module_version": "1.2.0",
          "state": {
            "_model_module": "@jupyter-widgets/base",
            "_model_module_version": "1.2.0",
            "_model_name": "LayoutModel",
            "_view_count": null,
            "_view_module": "@jupyter-widgets/base",
            "_view_module_version": "1.2.0",
            "_view_name": "LayoutView",
            "align_content": null,
            "align_items": null,
            "align_self": null,
            "border": null,
            "bottom": null,
            "display": null,
            "flex": null,
            "flex_flow": null,
            "grid_area": null,
            "grid_auto_columns": null,
            "grid_auto_flow": null,
            "grid_auto_rows": null,
            "grid_column": null,
            "grid_gap": null,
            "grid_row": null,
            "grid_template_areas": null,
            "grid_template_columns": null,
            "grid_template_rows": null,
            "height": null,
            "justify_content": null,
            "justify_items": null,
            "left": null,
            "margin": "0px 0px 20px 154px",
            "max_height": null,
            "max_width": null,
            "min_height": null,
            "min_width": null,
            "object_fit": null,
            "object_position": null,
            "order": null,
            "overflow": null,
            "overflow_x": null,
            "overflow_y": null,
            "padding": null,
            "right": null,
            "top": null,
            "visibility": null,
            "width": null
          }
        },
        "441941f4dbd94abaa1808e7874597f9d": {
          "model_module": "@jupyter-widgets/controls",
          "model_name": "ButtonStyleModel",
          "model_module_version": "1.5.0",
          "state": {
            "_model_module": "@jupyter-widgets/controls",
            "_model_module_version": "1.5.0",
            "_model_name": "ButtonStyleModel",
            "_view_count": null,
            "_view_module": "@jupyter-widgets/base",
            "_view_module_version": "1.2.0",
            "_view_name": "StyleView",
            "button_color": null,
            "font_weight": ""
          }
        },
        "56dbc94b97874b4c96cb60dc8b6fb88b": {
          "model_module": "@jupyter-widgets/controls",
          "model_name": "TextModel",
          "model_module_version": "1.5.0",
          "state": {
            "_dom_classes": [],
            "_model_module": "@jupyter-widgets/controls",
            "_model_module_version": "1.5.0",
            "_model_name": "TextModel",
            "_view_count": null,
            "_view_module": "@jupyter-widgets/controls",
            "_view_module_version": "1.5.0",
            "_view_name": "TextView",
            "continuous_update": true,
            "description": "Video:",
            "description_tooltip": null,
            "disabled": true,
            "layout": "IPY_MODEL_39321360059848c3af0e33ef9cb195b3",
            "placeholder": "Select a video above",
            "style": "IPY_MODEL_b4d5c7a8ca4d48e7b9740cc165acb89f",
            "value": ""
          }
        },
        "39321360059848c3af0e33ef9cb195b3": {
          "model_module": "@jupyter-widgets/base",
          "model_name": "LayoutModel",
          "model_module_version": "1.2.0",
          "state": {
            "_model_module": "@jupyter-widgets/base",
            "_model_module_version": "1.2.0",
            "_model_name": "LayoutModel",
            "_view_count": null,
            "_view_module": "@jupyter-widgets/base",
            "_view_module_version": "1.2.0",
            "_view_name": "LayoutView",
            "align_content": null,
            "align_items": null,
            "align_self": null,
            "border": null,
            "bottom": null,
            "display": null,
            "flex": null,
            "flex_flow": null,
            "grid_area": null,
            "grid_auto_columns": null,
            "grid_auto_flow": null,
            "grid_auto_rows": null,
            "grid_column": null,
            "grid_gap": null,
            "grid_row": null,
            "grid_template_areas": null,
            "grid_template_columns": null,
            "grid_template_rows": null,
            "height": null,
            "justify_content": null,
            "justify_items": null,
            "left": null,
            "margin": null,
            "max_height": null,
            "max_width": null,
            "min_height": null,
            "min_width": null,
            "object_fit": null,
            "object_position": null,
            "order": null,
            "overflow": null,
            "overflow_x": null,
            "overflow_y": null,
            "padding": null,
            "right": null,
            "top": null,
            "visibility": null,
            "width": null
          }
        },
        "b4d5c7a8ca4d48e7b9740cc165acb89f": {
          "model_module": "@jupyter-widgets/controls",
          "model_name": "DescriptionStyleModel",
          "model_module_version": "1.5.0",
          "state": {
            "_model_module": "@jupyter-widgets/controls",
            "_model_module_version": "1.5.0",
            "_model_name": "DescriptionStyleModel",
            "_view_count": null,
            "_view_module": "@jupyter-widgets/base",
            "_view_module_version": "1.2.0",
            "_view_name": "StyleView",
            "description_width": ""
          }
        },
        "5a95fd018de042b589acbe246f8a8f3e": {
          "model_module": "@jupyter-widgets/controls",
          "model_name": "TextModel",
          "model_module_version": "1.5.0",
          "state": {
            "_dom_classes": [],
            "_model_module": "@jupyter-widgets/controls",
            "_model_module_version": "1.5.0",
            "_model_name": "TextModel",
            "_view_count": null,
            "_view_module": "@jupyter-widgets/controls",
            "_view_module_version": "1.5.0",
            "_view_name": "TextView",
            "continuous_update": true,
            "description": "Config File:",
            "description_tooltip": null,
            "disabled": false,
            "layout": "IPY_MODEL_b481bbc400e4464da91c680de3248978",
            "placeholder": "​",
            "style": "IPY_MODEL_c9374c9be08443f28503ab3b474d42ba",
            "value": "configs/pose_sample.yaml"
          }
        },
        "b481bbc400e4464da91c680de3248978": {
          "model_module": "@jupyter-widgets/base",
          "model_name": "LayoutModel",
          "model_module_version": "1.2.0",
          "state": {
            "_model_module": "@jupyter-widgets/base",
            "_model_module_version": "1.2.0",
            "_model_name": "LayoutModel",
            "_view_count": null,
            "_view_module": "@jupyter-widgets/base",
            "_view_module_version": "1.2.0",
            "_view_name": "LayoutView",
            "align_content": null,
            "align_items": null,
            "align_self": null,
            "border": null,
            "bottom": null,
            "display": null,
            "flex": null,
            "flex_flow": null,
            "grid_area": null,
            "grid_auto_columns": null,
            "grid_auto_flow": null,
            "grid_auto_rows": null,
            "grid_column": null,
            "grid_gap": null,
            "grid_row": null,
            "grid_template_areas": null,
            "grid_template_columns": null,
            "grid_template_rows": null,
            "height": null,
            "justify_content": null,
            "justify_items": null,
            "left": null,
            "margin": null,
            "max_height": null,
            "max_width": null,
            "min_height": null,
            "min_width": null,
            "object_fit": null,
            "object_position": null,
            "order": null,
            "overflow": null,
            "overflow_x": null,
            "overflow_y": null,
            "padding": null,
            "right": null,
            "top": null,
            "visibility": null,
            "width": null
          }
        },
        "c9374c9be08443f28503ab3b474d42ba": {
          "model_module": "@jupyter-widgets/controls",
          "model_name": "DescriptionStyleModel",
          "model_module_version": "1.5.0",
          "state": {
            "_model_module": "@jupyter-widgets/controls",
            "_model_module_version": "1.5.0",
            "_model_name": "DescriptionStyleModel",
            "_view_count": null,
            "_view_module": "@jupyter-widgets/base",
            "_view_module_version": "1.2.0",
            "_view_name": "StyleView",
            "description_width": ""
          }
        },
        "0f4a7e6a008446c9afa02c9cf6b20b95": {
          "model_module": "@jupyter-widgets/controls",
          "model_name": "ButtonModel",
          "model_module_version": "1.5.0",
          "state": {
            "_dom_classes": [],
            "_model_module": "@jupyter-widgets/controls",
            "_model_module_version": "1.5.0",
            "_model_name": "ButtonModel",
            "_view_count": null,
            "_view_module": "@jupyter-widgets/controls",
            "_view_module_version": "1.5.0",
            "_view_name": "ButtonView",
            "button_style": "",
            "description": "Start Inference",
            "disabled": true,
            "icon": "",
            "layout": "IPY_MODEL_fc16239e9b9041bf9c3bc530a58258f6",
            "style": "IPY_MODEL_1b1d196c34a1479b95b9897b70ac63d3",
            "tooltip": ""
          }
        },
        "fc16239e9b9041bf9c3bc530a58258f6": {
          "model_module": "@jupyter-widgets/base",
          "model_name": "LayoutModel",
          "model_module_version": "1.2.0",
          "state": {
            "_model_module": "@jupyter-widgets/base",
            "_model_module_version": "1.2.0",
            "_model_name": "LayoutModel",
            "_view_count": null,
            "_view_module": "@jupyter-widgets/base",
            "_view_module_version": "1.2.0",
            "_view_name": "LayoutView",
            "align_content": null,
            "align_items": null,
            "align_self": null,
            "border": null,
            "bottom": null,
            "display": null,
            "flex": null,
            "flex_flow": null,
            "grid_area": null,
            "grid_auto_columns": null,
            "grid_auto_flow": null,
            "grid_auto_rows": null,
            "grid_column": null,
            "grid_gap": null,
            "grid_row": null,
            "grid_template_areas": null,
            "grid_template_columns": null,
            "grid_template_rows": null,
            "height": null,
            "justify_content": null,
            "justify_items": null,
            "left": null,
            "margin": "0px 0px 20px 154px",
            "max_height": null,
            "max_width": null,
            "min_height": null,
            "min_width": null,
            "object_fit": null,
            "object_position": null,
            "order": null,
            "overflow": null,
            "overflow_x": null,
            "overflow_y": null,
            "padding": null,
            "right": null,
            "top": null,
            "visibility": null,
            "width": null
          }
        },
        "1b1d196c34a1479b95b9897b70ac63d3": {
          "model_module": "@jupyter-widgets/controls",
          "model_name": "ButtonStyleModel",
          "model_module_version": "1.5.0",
          "state": {
            "_model_module": "@jupyter-widgets/controls",
            "_model_module_version": "1.5.0",
            "_model_name": "ButtonStyleModel",
            "_view_count": null,
            "_view_module": "@jupyter-widgets/base",
            "_view_module_version": "1.2.0",
            "_view_name": "StyleView",
            "button_color": null,
            "font_weight": ""
          }
        }
      }
    }
  },
  "nbformat": 4,
  "nbformat_minor": 0
}