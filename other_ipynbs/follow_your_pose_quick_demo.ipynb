{
  "cells": [
    {
      "cell_type": "markdown",
      "metadata": {
        "id": "ZI-7IKtJYIIf"
      },
      "source": [
        "[![Open In Colab](https://colab.research.google.com/assets/colab-badge.svg)](https://github.com/mayuelala/FollowYourPose/blob/main/quick_demo.ipynb)\n",
        "\n",
        "# 🕺🕺🕺 Follow Your Pose 💃💃💃:\n",
        "# Pose-Guided Text-to-Video Generation using Pose-Free Videos\n",
        "\n",
        "[Yue Ma*](https://mayuelala.github.io/), [Yingqing He*](https://github.com/YingqingHe), [Xiaodong Cun](http://vinthony.github.io/), [Xintao Wang](https://xinntao.github.io/), [Ying Shan](https://scholar.google.com/citations?hl=zh-CN&user=4oXBp9UAAAAJ), [Xiu Li](https://scholar.google.com/citations?user=Xrh1OIUAAAAJ&hl=zh-CN), and [Qifeng Chen](https://cqf.io)\n",
        "\n",
        "\n",
        "[![Project Website](https://img.shields.io/badge/Project-Website-orange)](https://follow-your-pose.github.io/)\n",
        "[![arXiv](https://img.shields.io/badge/arXiv-2304.01186-b31b1b.svg)](https://arxiv.org/abs/2304.01186)\n",
        "[![GitHub](https://img.shields.io/github/stars/mayuelala/FollowYourPose?style=social)](https://github.com/mayuelala/FollowYourPose)"
      ]
    },
    {
      "cell_type": "code",
      "execution_count": 2,
      "metadata": {
        "colab": {
          "base_uri": "https://localhost:8080/"
        },
        "id": "GPBJ9ZPNWofP",
        "outputId": "08c669fd-6983-48ab-805f-31878714772c"
      },
      "outputs": [
        {
          "name": "stdout",
          "output_type": "stream",
          "text": [
            "NVIDIA GeForce RTX 3060 Ti, 8192 MiB, 6847 MiB\n",
            " Volume in drive E is Backup\n",
            " Volume Serial Number is 8423-B54E\n",
            "\n",
            " Directory of e:\\_Unprotected\\3104_base_of_ops\\code\n",
            "\n",
            "22/09/2023  07:55 pm    <DIR>          .\n",
            "22/09/2023  07:55 pm    <DIR>          ..\n",
            "22/09/2023  08:23 pm            27,670 demo_windows_final.ipynb\n",
            "21/09/2023  11:16 pm    <DIR>          FollowYourPose\n",
            "22/09/2023  08:23 pm            31,551 follow_your_pose_quick_demo.ipynb\n",
            "19/09/2023  04:22 pm                48 test.py\n",
            "21/09/2023  07:37 pm    <DIR>          triton\n",
            "               3 File(s)         59,269 bytes\n",
            "               4 Dir(s)  770,962,665,472 bytes free\n"
          ]
        }
      ],
      "source": [
        "#@markdown Check type of GPU and VRAM available.\n",
        "!nvidia-smi --query-gpu=name,memory.total,memory.free --format=csv,noheader\n",
        "!dir\n",
        "\n",
        "from IPython.core.interactiveshell import InteractiveShell\n",
        "InteractiveShell.ast_node_interactivity = \"all\""
      ]
    },
    {
      "cell_type": "markdown",
      "metadata": {
        "id": "JGTUagmtwwxo"
      },
      "source": [
        "# 🕺🕺🕺 Install Environment"
      ]
    },
    {
      "cell_type": "code",
      "execution_count": 91,
      "metadata": {
        "colab": {
          "base_uri": "https://localhost:8080/"
        },
        "id": "JmWCIBSnZP4l",
        "outputId": "7cbd0308-8e11-4140-8bff-58d9368d4a13"
      },
      "outputs": [
        {
          "name": "stdout",
          "output_type": "stream",
          "text": [
            "Git clone project and install requirements...\n"
          ]
        },
        {
          "name": "stderr",
          "output_type": "stream",
          "text": [
            "fatal: destination path 'FollowYourPose' already exists and is not an empty directory.\n"
          ]
        }
      ],
      "source": [
        "# Not needed if already cloned\n",
        "\n",
        "print('Git clone project and install requirements...')\n",
        "!git clone https://github.com/mayuelala/FollowYourPose.git"
      ]
    },
    {
      "cell_type": "code",
      "execution_count": null,
      "metadata": {},
      "outputs": [],
      "source": [
        "# Triton currently can't be compiled on Windows\n",
        "# racist\n",
        "\n",
        "# !git clone https://github.com/openai/triton.git\n",
        "# %cd triton\n",
        "# %pip install ninja cmake\n",
        "# %pip install -e python"
      ]
    },
    {
      "cell_type": "code",
      "execution_count": 5,
      "metadata": {
        "colab": {
          "base_uri": "https://localhost:8080/"
        },
        "id": "CoHtEg-aeg5C",
        "outputId": "aee0cc03-bda5-4762-dc89-24b3ce61d959"
      },
      "outputs": [
        {
          "name": "stdout",
          "output_type": "stream",
          "text": [
            "Note: you may need to restart the kernel to use updated packages.\n"
          ]
        },
        {
          "name": "stderr",
          "output_type": "stream",
          "text": [
            "ERROR: Could not open requirements file: [Errno 2] No such file or directory: './FollowYourPose/requirements.txt'\n",
            "\n",
            "[notice] A new release of pip available: 22.3.1 -> 23.2.1\n",
            "[notice] To update, run: python.exe -m pip install --upgrade pip\n"
          ]
        },
        {
          "name": "stdout",
          "output_type": "stream",
          "text": [
            "Looking in indexes: https://download.pytorch.org/whl/cu118\n",
            "Collecting torch\n",
            "  Using cached https://download.pytorch.org/whl/cu118/torch-2.0.1%2Bcu118-cp38-cp38-win_amd64.whl (2619.2 MB)\n",
            "Collecting torchvision\n",
            "  Downloading https://download.pytorch.org/whl/cu118/torchvision-0.15.2%2Bcu118-cp38-cp38-win_amd64.whl (4.9 MB)\n",
            "     ---------------------------------------- 4.9/4.9 MB 4.3 MB/s eta 0:00:00\n",
            "Collecting sympy\n",
            "  Downloading https://download.pytorch.org/whl/sympy-1.11.1-py3-none-any.whl (6.5 MB)\n",
            "     ---------------------------------------- 6.5/6.5 MB 4.2 MB/s eta 0:00:00\n",
            "Collecting networkx\n",
            "  Downloading https://download.pytorch.org/whl/networkx-3.0-py3-none-any.whl (2.0 MB)\n",
            "     ---------------------------------------- 2.0/2.0 MB 3.8 MB/s eta 0:00:00\n",
            "Requirement already satisfied: filelock in e:\\_unprotected\\3104_base_of_ops\\venv_fyp\\lib\\site-packages (from torch) (3.9.0)\n",
            "Requirement already satisfied: typing-extensions in e:\\_unprotected\\3104_base_of_ops\\venv_fyp\\lib\\site-packages (from torch) (4.5.0)\n",
            "Requirement already satisfied: jinja2 in e:\\_unprotected\\3104_base_of_ops\\venv_fyp\\lib\\site-packages (from torch) (3.1.2)\n",
            "Requirement already satisfied: requests in e:\\_unprotected\\3104_base_of_ops\\venv_fyp\\lib\\site-packages (from torchvision) (2.28.2)\n",
            "Requirement already satisfied: pillow!=8.3.*,>=5.3.0 in e:\\_unprotected\\3104_base_of_ops\\venv_fyp\\lib\\site-packages (from torchvision) (9.4.0)\n",
            "Requirement already satisfied: numpy in e:\\_unprotected\\3104_base_of_ops\\venv_fyp\\lib\\site-packages (from torchvision) (1.24.2)\n",
            "Requirement already satisfied: MarkupSafe>=2.0 in e:\\_unprotected\\3104_base_of_ops\\venv_fyp\\lib\\site-packages (from jinja2->torch) (2.1.2)\n",
            "Requirement already satisfied: idna<4,>=2.5 in e:\\_unprotected\\3104_base_of_ops\\venv_fyp\\lib\\site-packages (from requests->torchvision) (3.4)\n",
            "Requirement already satisfied: charset-normalizer<4,>=2 in e:\\_unprotected\\3104_base_of_ops\\venv_fyp\\lib\\site-packages (from requests->torchvision) (3.0.1)\n",
            "Requirement already satisfied: urllib3<1.27,>=1.21.1 in e:\\_unprotected\\3104_base_of_ops\\venv_fyp\\lib\\site-packages (from requests->torchvision) (1.26.14)\n",
            "Requirement already satisfied: certifi>=2017.4.17 in e:\\_unprotected\\3104_base_of_ops\\venv_fyp\\lib\\site-packages (from requests->torchvision) (2023.7.22)\n",
            "Collecting mpmath>=0.19\n",
            "  Downloading https://download.pytorch.org/whl/mpmath-1.2.1-py3-none-any.whl (532 kB)\n",
            "     -------------------------------------- 532.6/532.6 kB 3.0 MB/s eta 0:00:00\n",
            "Installing collected packages: mpmath, sympy, networkx, torch, torchvision\n",
            "Successfully installed mpmath-1.2.1 networkx-3.0 sympy-1.11.1 torch-2.0.1+cu118 torchvision-0.15.2+cu118\n",
            "Note: you may need to restart the kernel to use updated packages.\n"
          ]
        },
        {
          "name": "stderr",
          "output_type": "stream",
          "text": [
            "ERROR: pip's dependency resolver does not currently take into account all the packages that are installed. This behaviour is the source of the following dependency conflicts.\n",
            "xformers 0.0.16 requires torch==1.13.1, but you have torch 2.0.1+cu118 which is incompatible.\n",
            "\n",
            "[notice] A new release of pip available: 22.3.1 -> 23.2.1\n",
            "[notice] To update, run: python.exe -m pip install --upgrade pip\n"
          ]
        }
      ],
      "source": [
        "%pip install -r ./FollowYourPose/requirements.txt\n",
        "%pip install torch torchvision --index-url https://download.pytorch.org/whl/cu118\n",
        "%pip install xformers\n",
        "# %pip install -q diffusers==0.11.1 torch==1.13.1 transformers==4.26.0 bitsandbytes==0.35.4 imageio-ffmpeg xformers==0.0.16 --extra-index-url https://download.pytorch.org/whl/cu113\n",
        "\n",
        "# Changes to requirements.txt:\n",
        "# nvidia-cudnn-cu11==8.9.4.25\n",
        "# triton REMOVED, racist towards Windows\n",
        "# torch REMOVED, reinstalled in separate command\n",
        "# torchvision REMOVED, reinstalled in separate command\n",
        "# xformers REMOVED, reinstalled in separate command"
      ]
    },
    {
      "cell_type": "code",
      "execution_count": null,
      "metadata": {},
      "outputs": [],
      "source": [
        "# Not needed if already cloned\n",
        "\n",
        "%cd FollowYourPose\n",
        "!mkdir checkpoints\n",
        "%cd ..\n",
        "!git lfs install\n",
        "!git clone https://huggingface.co/YueMafighting/FollowYourPose_v1"
      ]
    },
    {
      "cell_type": "markdown",
      "metadata": {
        "id": "2ZiDSX_7w3my"
      },
      "source": [
        "# 💃💃💃 Weight"
      ]
    },
    {
      "cell_type": "code",
      "execution_count": 3,
      "metadata": {
        "colab": {
          "base_uri": "https://localhost:8080/"
        },
        "id": "gFvOq34Beqcj",
        "outputId": "34fd6d71-115f-4ad3-d996-989a5bf2ddab"
      },
      "outputs": [],
      "source": [
        "# Not needed if already moved\n",
        "\n",
        "!for /f %a IN ('dir \"FollowYourPose_v1\" /b') do move \"FollowYourPose_v1\\%a\" \"FollowYourPose\\checkpoints\\\"\n",
        "!rd /s /q FollowYourPose_v1"
      ]
    },
    {
      "cell_type": "markdown",
      "metadata": {
        "id": "Kbx46ZU6znrs"
      },
      "source": [
        "# 🕺🕺🕺 Sample"
      ]
    },
    {
      "cell_type": "markdown",
      "metadata": {
        "id": "6GW8-Xz8zwnE"
      },
      "source": [
        "Due to memory of GPU, we recommend set video_length=8 in ./config/pose_sample.yaml for running successfully.\n",
        "\n",
        "Meanwhile, we should keep the skeleton frame length(./followyourpose/pipelines/pipeline_followyourpose.py:422 ) equal with video_length"
      ]
    },
    {
      "cell_type": "code",
      "execution_count": 2,
      "metadata": {},
      "outputs": [
        {
          "name": "stdout",
          "output_type": "stream",
          "text": [
            "e:\\_Unprotected\\3104_base_of_ops\\code\\FollowYourPose\n",
            " Volume in drive E is Backup\n",
            " Volume Serial Number is 8423-B54E\n",
            "\n",
            " Directory of e:\\_Unprotected\\3104_base_of_ops\\code\\FollowYourPose\n",
            "\n",
            "21/09/2023  11:16 pm    <DIR>          .\n",
            "21/09/2023  11:16 pm    <DIR>          ..\n",
            "19/09/2023  11:39 am               216 .gitignore\n",
            "19/09/2023  11:39 am             8,350 app.py\n",
            "19/09/2023  11:39 am             7,190 app_followyourpose.py\n",
            "21/09/2023  09:41 pm    <DIR>          checkpoints\n",
            "21/09/2023  07:32 pm    <DIR>          configs\n",
            "19/09/2023  11:39 am             1,295 example.py\n",
            "19/09/2023  11:39 am         3,885,478 example_video.zip\n",
            "21/09/2023  07:32 pm    <DIR>          followyourpose\n",
            "21/09/2023  07:32 pm    <DIR>          gif_results\n",
            "19/09/2023  11:39 am             3,189 inference_followyourpose.py\n",
            "19/09/2023  11:39 am             3,202 inference_mmpose.py\n",
            "19/09/2023  11:39 am             1,083 LICENSE\n",
            "19/09/2023  11:39 am               257 multi_train.sh\n",
            "21/09/2023  07:32 pm    <DIR>          output\n",
            "21/09/2023  07:32 pm    <DIR>          pose_example\n",
            "19/09/2023  11:39 am            36,505 quick_demo.ipynb\n",
            "19/09/2023  11:39 am            18,038 README.md\n",
            "21/09/2023  09:33 pm             2,173 requirements.txt\n",
            "19/09/2023  11:39 am               249 sample.sh\n",
            "19/09/2023  11:39 am            16,068 train_followyourpose.py\n",
            "22/09/2023  06:03 pm             7,575 txt2video.py\n",
            "              15 File(s)      3,990,868 bytes\n",
            "               8 Dir(s)  766,012,551,168 bytes free\n"
          ]
        }
      ],
      "source": [
        "%cd FollowYourPose\n",
        "!dir"
      ]
    },
    {
      "cell_type": "code",
      "execution_count": 3,
      "metadata": {
        "colab": {
          "base_uri": "https://localhost:8080/"
        },
        "id": "Ikh_58SVgf47",
        "outputId": "29fd40f0-a153-4730-e88d-36d2dba1b5db"
      },
      "outputs": [
        {
          "name": "stderr",
          "output_type": "stream",
          "text": [
            "The following values were not passed to `accelerate launch` and had defaults used instead:\n",
            "\t`--num_processes` was set to a value of `1`\n",
            "\t`--num_machines` was set to a value of `1`\n",
            "\t`--mixed_precision` was set to a value of `'no'`\n",
            "\t`--dynamo_backend` was set to a value of `'no'`\n",
            "To avoid this warning pass in values for each of the problematic parameters or run `accelerate config`.\n",
            "c:\\users\\uniqalias\\appdata\\local\\programs\\python\\python38\\python.exe: can't open file 'txt2video.py': [Errno 2] No such file or directory\n",
            "Traceback (most recent call last):\n",
            "  File \"c:\\users\\uniqalias\\appdata\\local\\programs\\python\\python38\\lib\\runpy.py\", line 194, in _run_module_as_main\n",
            "    return _run_code(code, main_globals, None,\n",
            "  File \"c:\\users\\uniqalias\\appdata\\local\\programs\\python\\python38\\lib\\runpy.py\", line 87, in _run_code\n",
            "    exec(code, run_globals)\n",
            "  File \"e:\\_Unprotected\\3104_base_of_ops\\venv_fyp\\Scripts\\accelerate.exe\\__main__.py\", line 7, in <module>\n",
            "  File \"e:\\_Unprotected\\3104_base_of_ops\\venv_fyp\\lib\\site-packages\\accelerate\\commands\\accelerate_cli.py\", line 45, in main\n",
            "    args.func(args)\n",
            "  File \"e:\\_Unprotected\\3104_base_of_ops\\venv_fyp\\lib\\site-packages\\accelerate\\commands\\launch.py\", line 1097, in launch_command\n",
            "    simple_launcher(args)\n",
            "  File \"e:\\_Unprotected\\3104_base_of_ops\\venv_fyp\\lib\\site-packages\\accelerate\\commands\\launch.py\", line 552, in simple_launcher\n",
            "    raise subprocess.CalledProcessError(returncode=process.returncode, cmd=cmd)\n",
            "subprocess.CalledProcessError: Command '['e:\\\\_Unprotected\\\\3104_base_of_ops\\\\venv_fyp\\\\Scripts\\\\python.exe', 'txt2video.py', '--config=configs/pose_sample.yaml', '--skeleton_path=./pose_example/vis_ikun_pose2.mov']' returned non-zero exit status 2.\n"
          ]
        }
      ],
      "source": [
        "!accelerate launch txt2video.py --config=\"configs/pose_sample.yaml\"  --skeleton_path=\"./pose_example/vis_ikun_pose2.mov\""
      ]
    },
    {
      "cell_type": "markdown",
      "metadata": {
        "id": "m-sw8eRt2fFa"
      },
      "source": [
        "# 💃💃💃 The videos are output into ./output/samples"
      ]
    }
  ],
  "metadata": {
    "accelerator": "GPU",
    "colab": {
      "provenance": []
    },
    "gpuClass": "standard",
    "kernelspec": {
      "display_name": "Python 3",
      "name": "python3"
    },
    "language_info": {
      "codemirror_mode": {
        "name": "ipython",
        "version": 3
      },
      "file_extension": ".py",
      "mimetype": "text/x-python",
      "name": "python",
      "nbconvert_exporter": "python",
      "pygments_lexer": "ipython3",
      "version": "3.8.10"
    }
  },
  "nbformat": 4,
  "nbformat_minor": 0
}
