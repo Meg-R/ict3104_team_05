{
 "cells": [
  {
   "cell_type": "code",
   "execution_count": 1,
   "metadata": {
    "ExecuteTime": {
     "end_time": "2023-10-11T07:51:21.680216Z",
     "start_time": "2023-10-11T07:51:21.667151Z"
    }
   },
   "outputs": [
    {
     "name": "stdout",
     "output_type": "stream",
     "text": [
      "E:\\_Unprotected\\ict3104_team_05\n"
     ]
    }
   ],
   "source": [
    "# return to root folder\n",
    "%cd .."
   ]
  },
  {
   "cell_type": "code",
   "execution_count": null,
   "metadata": {},
   "outputs": [],
   "source": [
    "# Clone FYP inference base model\n",
    "\n",
    "%cd FollowYourPose\n",
    "!mkdir checkpoints\n",
    "\n",
    "%cd checkpoints\n",
    "!git lfs install\n",
    "!git clone https://huggingface.co/YueMafighting/FollowYourPose_v1 .\n",
    "%cd ..\\.."
   ]
  },
  {
   "cell_type": "code",
   "execution_count": null,
   "metadata": {},
   "outputs": [],
   "source": [
    "# I just freeze, Every time you see through me...\n",
    "\n",
    "%cd FollowYourPose\n",
    "!accelerate launch txt2video.py --config=\"configs/pose_sample.yaml\"  --skeleton_path=\"./pose_example/vis_ikun_pose2.mov\"\n",
    "%cd .."
   ]
  }
 ],
 "metadata": {
  "kernelspec": {
   "display_name": "Python 3 (ipykernel)",
   "language": "python",
   "name": "python3"
  },
  "language_info": {
   "codemirror_mode": {
    "name": "ipython",
    "version": 3
   },
   "file_extension": ".py",
   "mimetype": "text/x-python",
   "name": "python",
   "nbconvert_exporter": "python",
   "pygments_lexer": "ipython3",
   "version": "3.8.10"
  }
 },
 "nbformat": 4,
 "nbformat_minor": 4
}
